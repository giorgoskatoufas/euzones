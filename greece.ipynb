{
 "cells": [
  {
   "cell_type": "code",
   "execution_count": 1,
   "id": "4af93d8a",
   "metadata": {},
   "outputs": [],
   "source": [
    "import requests\n",
    "import pandas as pd"
   ]
  },
  {
   "cell_type": "code",
   "execution_count": 3,
   "id": "f714a99f",
   "metadata": {},
   "outputs": [
    {
     "name": "stdout",
     "output_type": "stream",
     "text": [
      "<Response [200]>\n"
     ]
    }
   ],
   "source": [
    "start1='2020-01-01'\n",
    "to1='2020-12-31'\n",
    "myurl1='https://transparency.entsog.eu/api/v1/aggregateddata.xlsx?forceDownload=true&pointDirection=gr---------gr-tso-0001exittransmissionbg-ngts----,gr---------gr-tso-0002entrytransmission,gr---------gr-tso-0001entrytransmission,gr---------gr-tso-0001exitdistribution,gr---------gr-tso-0001exittransmission,gr---------gr-tso-0001entrylng%20terminals,gr---------gr-tso-0001entrytransmissionbg-ngts----,gr---------gr-tso-0001exitfinal%20consumers&from={}&to={}&indicator=Physical%20Flow&periodType=day&timezone=CET&limit=-1'.format(start1,to1)\n",
    "response=requests.get(myurl1)\n",
    "print(response)"
   ]
  },
  {
   "cell_type": "code",
   "execution_count": 4,
   "id": "e7e57635",
   "metadata": {
    "collapsed": true
   },
   "outputs": [
    {
     "name": "stdout",
     "output_type": "stream",
     "text": [
      "                                                     id  dataSet dataSetLabel  \\\n",
      "0     1AggregatesGRGR---------GR-TSO-0001entryLNG Te...        1   Aggregates   \n",
      "1     1AggregatesGRGR---------GR-TSO-0001entryTransm...        1   Aggregates   \n",
      "2     1AggregatesGRGR---------GR-TSO-0001exitDistrib...        1   Aggregates   \n",
      "3     1AggregatesGRGR---------GR-TSO-0001exitFinal C...        1   Aggregates   \n",
      "4     1AggregatesGRGR---------GR-TSO-0001exitTransmi...        1   Aggregates   \n",
      "...                                                 ...      ...          ...   \n",
      "1825  1AggregatesGRGR---------GR-TSO-0001entryLNG Te...        1   Aggregates   \n",
      "1826  1AggregatesGRGR---------GR-TSO-0001entryTransm...        1   Aggregates   \n",
      "1827  1AggregatesGRGR---------GR-TSO-0001exitDistrib...        1   Aggregates   \n",
      "1828  1AggregatesGRGR---------GR-TSO-0001exitFinal C...        1   Aggregates   \n",
      "1829  1AggregatesGRGR---------GR-TSO-0001exitTransmi...        1   Aggregates   \n",
      "\n",
      "          indicator periodType        periodFrom          periodTo countryKey  \\\n",
      "0     Physical Flow        day  2020-01-01 06:00  2020-01-02 06:00         GR   \n",
      "1     Physical Flow        day  2020-01-01 06:00  2020-01-02 06:00         GR   \n",
      "2     Physical Flow        day  2020-01-01 06:00  2020-01-02 06:00         GR   \n",
      "3     Physical Flow        day  2020-01-01 06:00  2020-01-02 06:00         GR   \n",
      "4     Physical Flow        day  2020-01-01 06:00  2020-01-02 06:00         GR   \n",
      "...             ...        ...               ...               ...        ...   \n",
      "1825  Physical Flow        day  2020-12-31 06:00  2021-01-01 06:00         GR   \n",
      "1826  Physical Flow        day  2020-12-31 06:00  2021-01-01 06:00         GR   \n",
      "1827  Physical Flow        day  2020-12-31 06:00  2021-01-01 06:00         GR   \n",
      "1828  Physical Flow        day  2020-12-31 06:00  2021-01-01 06:00         GR   \n",
      "1829  Physical Flow        day  2020-12-31 06:00  2021-01-01 06:00         GR   \n",
      "\n",
      "     countryLabel        bzKey  ... adjacentSystemsLabel  year month day  \\\n",
      "0          Greece  GR---------  ...        LNG Terminals  2020     1   1   \n",
      "1          Greece  GR---------  ...         Transmission  2020     1   1   \n",
      "2          Greece  GR---------  ...         Distribution  2020     1   1   \n",
      "3          Greece  GR---------  ...      Final Consumers  2020     1   1   \n",
      "4          Greece  GR---------  ...         Transmission  2020     1   1   \n",
      "...           ...          ...  ...                  ...   ...   ...  ..   \n",
      "1825       Greece  GR---------  ...        LNG Terminals  2020    12  31   \n",
      "1826       Greece  GR---------  ...         Transmission  2020    12  31   \n",
      "1827       Greece  GR---------  ...         Distribution  2020    12  31   \n",
      "1828       Greece  GR---------  ...      Final Consumers  2020    12  31   \n",
      "1829       Greece  GR---------  ...         Transmission  2020    12  31   \n",
      "\n",
      "       unit      value countPointPresents    flowStatus  \\\n",
      "0     kWh/d  138853526                  1  Provisionnal   \n",
      "1     kWh/d          0                  1  Provisionnal   \n",
      "2     kWh/d   70575939                 26  Provisionnal   \n",
      "3     kWh/d   87288616                 17  Provisionnal   \n",
      "4     kWh/d          0                  1  Provisionnal   \n",
      "...     ...        ...                ...           ...   \n",
      "1825  kWh/d  112517347                  1  Provisionnal   \n",
      "1826  kWh/d     665927                  2  Provisionnal   \n",
      "1827  kWh/d   41264755                 26  Provisionnal   \n",
      "1828  kWh/d  135125333                 17  Provisionnal   \n",
      "1829  kWh/d          0                  1  Provisionnal   \n",
      "\n",
      "                                            pointsNames  lastUpdateDateTime  \n",
      "0                                           Agia Triada    2020-01-24 11:09  \n",
      "1                                 Kipi (TR) / Kipi (GR)    2020-01-24 11:09  \n",
      "2     Agioi Theodoroi|Alexandroupolis|Athens|Drama|F...    2020-01-24 11:09  \n",
      "3     Aliveri (PPC)|Aloyminion II|Aloyminion III|Alo...    2020-01-24 11:09  \n",
      "4                                 Kipi (TR) / Kipi (GR)    2020-01-24 11:09  \n",
      "...                                                 ...                 ...  \n",
      "1825                                        Agia Triada    2021-01-01 10:23  \n",
      "1826                Kipi (TR) / Kipi (GR)|Nea Mesimvria    2021-01-01 10:23  \n",
      "1827  Agioi Theodoroi|Alexandroupolis|Athens|Drama|F...    2021-01-01 10:23  \n",
      "1828  Aliveri (PPC)|Aloyminion II|Aloyminion III|Alo...    2021-01-01 10:23  \n",
      "1829                              Kipi (TR) / Kipi (GR)    2021-01-01 10:23  \n",
      "\n",
      "[1830 rows x 27 columns]\n"
     ]
    }
   ],
   "source": [
    "df1=pd.read_excel(myurl1)\n",
    "print(df1)"
   ]
  },
  {
   "cell_type": "code",
   "execution_count": 18,
   "id": "b1e659a4",
   "metadata": {},
   "outputs": [
    {
     "name": "stdout",
     "output_type": "stream",
     "text": [
      "     directionKey  month      value\n",
      "0           entry      1   92729827\n",
      "1           entry      1    8955783\n",
      "2            exit      1   43378589\n",
      "3            exit      1  139167946\n",
      "4            exit      1          0\n",
      "...           ...    ...        ...\n",
      "2001        entry     12          0\n",
      "2002         exit     12   54829460\n",
      "2003         exit     12   65288652\n",
      "2004         exit     12          0\n",
      "2005         exit     12   22235178\n",
      "\n",
      "[2006 rows x 3 columns]\n"
     ]
    }
   ],
   "source": [
    "df_subset1=df1[['directionKey','month','value']]\n",
    "print(df_subset1)"
   ]
  },
  {
   "cell_type": "code",
   "execution_count": 19,
   "id": "0d2af5b0",
   "metadata": {},
   "outputs": [
    {
     "name": "stdout",
     "output_type": "stream",
     "text": [
      "                           value\n",
      "month directionKey              \n",
      "1     entry         6.689682e+07\n",
      "      exit          6.644099e+07\n",
      "2     entry         4.641055e+07\n",
      "      exit          5.579628e+07\n",
      "3     entry         5.985672e+07\n",
      "      exit          5.941834e+07\n",
      "4     entry         5.310107e+07\n",
      "      exit          5.640582e+07\n",
      "5     entry         4.108825e+07\n",
      "      exit          4.153968e+07\n",
      "6     entry         7.796778e+07\n",
      "      exit          5.523453e+07\n",
      "7     entry         6.356237e+07\n",
      "      exit          6.064018e+07\n",
      "8     entry         5.258094e+07\n",
      "      exit          5.739730e+07\n",
      "9     entry         5.934267e+07\n",
      "      exit          5.533916e+07\n",
      "10    entry         5.989820e+07\n",
      "      exit          4.086143e+07\n",
      "11    entry         6.208320e+07\n",
      "      exit          4.262650e+07\n",
      "12    entry         7.177719e+07\n",
      "      exit          4.881313e+07\n"
     ]
    }
   ],
   "source": [
    "values_by_entry1=df_subset1.pivot_table(index=['month','directionKey'])\n",
    "print(values_by_entry1)"
   ]
  },
  {
   "cell_type": "code",
   "execution_count": 20,
   "id": "0e468e6a",
   "metadata": {},
   "outputs": [
    {
     "data": {
      "text/plain": [
       "<AxesSubplot:xlabel='month,directionKey'>"
      ]
     },
     "execution_count": 20,
     "metadata": {},
     "output_type": "execute_result"
    },
    {
     "data": {
      "image/png": "[encoded data removed]",
      "text/plain": [
       "<Figure size 1728x720 with 1 Axes>"
      ]
     },
     "metadata": {
      "needs_background": "light"
     },
     "output_type": "display_data"
    }
   ],
   "source": [
    "values_by_entry1.plot(kind='bar',figsize=(24,10))"
   ]
  },
  {
   "cell_type": "code",
   "execution_count": 8,
   "id": "6863d443",
   "metadata": {},
   "outputs": [
    {
     "name": "stdout",
     "output_type": "stream",
     "text": [
      "<Response [200]>\n"
     ]
    }
   ],
   "source": [
    "start2='2021-01-01'\n",
    "to2='2021-12-31'\n",
    "myurl2='https://transparency.entsog.eu/api/v1/aggregateddata.xlsx?forceDownload=true&pointDirection=gr---------gr-tso-0001exittransmissionbg-ngts----,gr---------gr-tso-0002entrytransmission,gr---------gr-tso-0001entrytransmission,gr---------gr-tso-0001exitdistribution,gr---------gr-tso-0001exittransmission,gr---------gr-tso-0001entrylng%20terminals,gr---------gr-tso-0001entrytransmissionbg-ngts----,gr---------gr-tso-0001exitfinal%20consumers&from={}&to={}&indicator=Physical%20Flow&periodType=day&timezone=CET&limit=-1'.format(start2,to2)\n",
    "response=requests.get(myurl2)\n",
    "print(response)"
   ]
  },
  {
   "cell_type": "code",
   "execution_count": 10,
   "id": "6e1365b9",
   "metadata": {
    "collapsed": true
   },
   "outputs": [
    {
     "name": "stdout",
     "output_type": "stream",
     "text": [
      "                                                     id  dataSet dataSetLabel  \\\n",
      "0     1AggregatesGRGR---------GR-TSO-0001entryLNG Te...        1   Aggregates   \n",
      "1     1AggregatesGRGR---------GR-TSO-0001entryTransm...        1   Aggregates   \n",
      "2     1AggregatesGRGR---------GR-TSO-0001exitDistrib...        1   Aggregates   \n",
      "3     1AggregatesGRGR---------GR-TSO-0001exitFinal C...        1   Aggregates   \n",
      "4     1AggregatesGRGR---------GR-TSO-0001exitTransmi...        1   Aggregates   \n",
      "...                                                 ...      ...          ...   \n",
      "2001  1AggregatesGRGR---------GR-TSO-0001entryTransm...        1   Aggregates   \n",
      "2002  1AggregatesGRGR---------GR-TSO-0001exitDistrib...        1   Aggregates   \n",
      "2003  1AggregatesGRGR---------GR-TSO-0001exitFinal C...        1   Aggregates   \n",
      "2004  1AggregatesGRGR---------GR-TSO-0001exitTransmi...        1   Aggregates   \n",
      "2005  1AggregatesGRGR---------GR-TSO-0001exitTransmi...        1   Aggregates   \n",
      "\n",
      "          indicator periodType        periodFrom          periodTo countryKey  \\\n",
      "0     Physical Flow        day  2021-01-01 06:00  2021-01-02 06:00         GR   \n",
      "1     Physical Flow        day  2021-01-01 06:00  2021-01-02 06:00         GR   \n",
      "2     Physical Flow        day  2021-01-01 06:00  2021-01-02 06:00         GR   \n",
      "3     Physical Flow        day  2021-01-01 06:00  2021-01-02 06:00         GR   \n",
      "4     Physical Flow        day  2021-01-01 06:00  2021-01-02 06:00         GR   \n",
      "...             ...        ...               ...               ...        ...   \n",
      "2001  Physical Flow        day  2021-12-31 06:00  2022-01-01 06:00         GR   \n",
      "2002  Physical Flow        day  2021-12-31 06:00  2022-01-01 06:00         GR   \n",
      "2003  Physical Flow        day  2021-12-31 06:00  2022-01-01 06:00         GR   \n",
      "2004  Physical Flow        day  2021-12-31 06:00  2022-01-01 06:00         GR   \n",
      "2005  Physical Flow        day  2021-12-31 06:00  2022-01-01 06:00         GR   \n",
      "\n",
      "     countryLabel        bzKey  ... adjacentSystemsLabel  year month day  \\\n",
      "0          Greece  GR---------  ...        LNG Terminals  2021     1   1   \n",
      "1          Greece  GR---------  ...         Transmission  2021     1   1   \n",
      "2          Greece  GR---------  ...         Distribution  2021     1   1   \n",
      "3          Greece  GR---------  ...      Final Consumers  2021     1   1   \n",
      "4          Greece  GR---------  ...         Transmission  2021     1   1   \n",
      "...           ...          ...  ...                  ...   ...   ...  ..   \n",
      "2001       Greece  GR---------  ...             Bulgaria  2021    12  31   \n",
      "2002       Greece  GR---------  ...         Distribution  2021    12  31   \n",
      "2003       Greece  GR---------  ...      Final Consumers  2021    12  31   \n",
      "2004       Greece  GR---------  ...         Transmission  2021    12  31   \n",
      "2005       Greece  GR---------  ...             Bulgaria  2021    12  31   \n",
      "\n",
      "       unit      value countPointPresents    flowStatus  \\\n",
      "0     kWh/d   92729827                  1  Provisionnal   \n",
      "1     kWh/d    8955783                  2  Provisionnal   \n",
      "2     kWh/d   43378589                 26  Provisionnal   \n",
      "3     kWh/d  139167946                 17  Provisionnal   \n",
      "4     kWh/d          0                  1  Provisionnal   \n",
      "...     ...        ...                ...           ...   \n",
      "2001  kWh/d          0                  1  Provisionnal   \n",
      "2002  kWh/d   54829460                 26  Provisionnal   \n",
      "2003  kWh/d   65288652                 17  Provisionnal   \n",
      "2004  kWh/d          0                  1  Provisionnal   \n",
      "2005  kWh/d   22235178                  1  Provisionnal   \n",
      "\n",
      "                                            pointsNames  lastUpdateDateTime  \n",
      "0                                           Agia Triada    2021-01-02 10:19  \n",
      "1                   Kipi (TR) / Kipi (GR)|Nea Mesimvria    2021-01-02 10:19  \n",
      "2     Agioi Theodoroi|Alexandroupolis|Athens|Drama|F...    2021-01-02 10:19  \n",
      "3     Aliveri (PPC)|Aloyminion II|Aloyminion III|Alo...    2021-01-02 10:19  \n",
      "4                                 Kipi (TR) / Kipi (GR)    2021-01-02 10:19  \n",
      "...                                                 ...                 ...  \n",
      "2001                   Kulata (BG) / Sidirokastron (GR)    2022-01-01 11:25  \n",
      "2002  Agioi Theodoroi|Alexandroupolis|Athens|Drama|F...    2022-01-01 11:25  \n",
      "2003  Aliveri (PPC)|Aloyminion II|Aloyminion III|Alo...    2022-01-01 11:25  \n",
      "2004                              Kipi (TR) / Kipi (GR)    2022-01-01 11:25  \n",
      "2005                   Kulata (BG) / Sidirokastron (GR)    2022-01-01 11:25  \n",
      "\n",
      "[2006 rows x 27 columns]\n"
     ]
    }
   ],
   "source": [
    "df2=pd.read_excel(myurl2)\n",
    "print(df2)"
   ]
  },
  {
   "cell_type": "code",
   "execution_count": 21,
   "id": "03a4fc7c",
   "metadata": {},
   "outputs": [
    {
     "name": "stdout",
     "output_type": "stream",
     "text": [
      "     directionKey  month      value\n",
      "0           entry      1   92729827\n",
      "1           entry      1    8955783\n",
      "2            exit      1   43378589\n",
      "3            exit      1  139167946\n",
      "4            exit      1          0\n",
      "...           ...    ...        ...\n",
      "2001        entry     12          0\n",
      "2002         exit     12   54829460\n",
      "2003         exit     12   65288652\n",
      "2004         exit     12          0\n",
      "2005         exit     12   22235178\n",
      "\n",
      "[2006 rows x 3 columns]\n"
     ]
    }
   ],
   "source": [
    "df_subset2=df2[['directionKey','month','value']]\n",
    "print(df_subset2)"
   ]
  },
  {
   "cell_type": "code",
   "execution_count": 22,
   "id": "e3bd3e2a",
   "metadata": {
    "collapsed": true
   },
   "outputs": [
    {
     "name": "stdout",
     "output_type": "stream",
     "text": [
      "                           value\n",
      "month directionKey              \n",
      "1     entry         6.689682e+07\n",
      "      exit          6.644099e+07\n",
      "2     entry         4.641055e+07\n",
      "      exit          5.579628e+07\n",
      "3     entry         5.985672e+07\n",
      "      exit          5.941834e+07\n",
      "4     entry         5.310107e+07\n",
      "      exit          5.640582e+07\n",
      "5     entry         4.108825e+07\n",
      "      exit          4.153968e+07\n",
      "6     entry         7.796778e+07\n",
      "      exit          5.523453e+07\n",
      "7     entry         6.356237e+07\n",
      "      exit          6.064018e+07\n",
      "8     entry         5.258094e+07\n",
      "      exit          5.739730e+07\n",
      "9     entry         5.934267e+07\n",
      "      exit          5.533916e+07\n",
      "10    entry         5.989820e+07\n",
      "      exit          4.086143e+07\n",
      "11    entry         6.208320e+07\n",
      "      exit          4.262650e+07\n",
      "12    entry         7.177719e+07\n",
      "      exit          4.881313e+07\n"
     ]
    }
   ],
   "source": [
    "values_by_entry2=df_subset2.pivot_table(index=['month','directionKey'])\n",
    "print(values_by_entry2)"
   ]
  },
  {
   "cell_type": "code",
   "execution_count": 23,
   "id": "489eb7d8",
   "metadata": {
    "collapsed": true
   },
   "outputs": [
    {
     "data": {
      "text/plain": [
       "<AxesSubplot:xlabel='month,directionKey'>"
      ]
     },
     "execution_count": 23,
     "metadata": {},
     "output_type": "execute_result"
    },
    {
     "data": {
      "image/png": "[encoded data removed]",
      "text/plain": [
       "<Figure size 1728x720 with 1 Axes>"
      ]
     },
     "metadata": {
      "needs_background": "light"
     },
     "output_type": "display_data"
    }
   ],
   "source": [
    "values_by_entry2.plot(kind='bar',figsize=(24,10))"
   ]
  },
  {
   "cell_type": "code",
   "execution_count": 16,
   "id": "266253f1",
   "metadata": {},
   "outputs": [
    {
     "name": "stdout",
     "output_type": "stream",
     "text": [
      "<Response [200]>\n"
     ]
    }
   ],
   "source": [
    "start3='2020-01-01'\n",
    "to3='2021-12-31'\n",
    "myurl3='https://transparency.entsog.eu/api/v1/aggregateddata.xlsx?forceDownload=true&pointDirection=gr---------gr-tso-0001exittransmissionbg-ngts----,gr---------gr-tso-0002entrytransmission,gr---------gr-tso-0001entrytransmission,gr---------gr-tso-0001exitdistribution,gr---------gr-tso-0001exittransmission,gr---------gr-tso-0001entrylng%20terminals,gr---------gr-tso-0001entrytransmissionbg-ngts----,gr---------gr-tso-0001exitfinal%20consumers&from={}&to={}&indicator=Physical%20Flow&periodType=day&timezone=CET&limit=-1'.format(start3,to3)\n",
    "response=requests.get(myurl3)\n",
    "print(response)"
   ]
  },
  {
   "cell_type": "code",
   "execution_count": 17,
   "id": "58e05303",
   "metadata": {
    "collapsed": true
   },
   "outputs": [
    {
     "name": "stdout",
     "output_type": "stream",
     "text": [
      "                                                     id  dataSet dataSetLabel  \\\n",
      "0     1AggregatesGRGR---------GR-TSO-0001entryLNG Te...        1   Aggregates   \n",
      "1     1AggregatesGRGR---------GR-TSO-0001entryTransm...        1   Aggregates   \n",
      "2     1AggregatesGRGR---------GR-TSO-0001exitDistrib...        1   Aggregates   \n",
      "3     1AggregatesGRGR---------GR-TSO-0001exitFinal C...        1   Aggregates   \n",
      "4     1AggregatesGRGR---------GR-TSO-0001exitTransmi...        1   Aggregates   \n",
      "...                                                 ...      ...          ...   \n",
      "3831  1AggregatesGRGR---------GR-TSO-0001entryTransm...        1   Aggregates   \n",
      "3832  1AggregatesGRGR---------GR-TSO-0001exitDistrib...        1   Aggregates   \n",
      "3833  1AggregatesGRGR---------GR-TSO-0001exitFinal C...        1   Aggregates   \n",
      "3834  1AggregatesGRGR---------GR-TSO-0001exitTransmi...        1   Aggregates   \n",
      "3835  1AggregatesGRGR---------GR-TSO-0001exitTransmi...        1   Aggregates   \n",
      "\n",
      "          indicator periodType        periodFrom          periodTo countryKey  \\\n",
      "0     Physical Flow        day  2020-01-01 06:00  2020-01-02 06:00         GR   \n",
      "1     Physical Flow        day  2020-01-01 06:00  2020-01-02 06:00         GR   \n",
      "2     Physical Flow        day  2020-01-01 06:00  2020-01-02 06:00         GR   \n",
      "3     Physical Flow        day  2020-01-01 06:00  2020-01-02 06:00         GR   \n",
      "4     Physical Flow        day  2020-01-01 06:00  2020-01-02 06:00         GR   \n",
      "...             ...        ...               ...               ...        ...   \n",
      "3831  Physical Flow        day  2021-12-31 06:00  2022-01-01 06:00         GR   \n",
      "3832  Physical Flow        day  2021-12-31 06:00  2022-01-01 06:00         GR   \n",
      "3833  Physical Flow        day  2021-12-31 06:00  2022-01-01 06:00         GR   \n",
      "3834  Physical Flow        day  2021-12-31 06:00  2022-01-01 06:00         GR   \n",
      "3835  Physical Flow        day  2021-12-31 06:00  2022-01-01 06:00         GR   \n",
      "\n",
      "     countryLabel        bzKey  ... adjacentSystemsLabel  year month day  \\\n",
      "0          Greece  GR---------  ...        LNG Terminals  2020     1   1   \n",
      "1          Greece  GR---------  ...         Transmission  2020     1   1   \n",
      "2          Greece  GR---------  ...         Distribution  2020     1   1   \n",
      "3          Greece  GR---------  ...      Final Consumers  2020     1   1   \n",
      "4          Greece  GR---------  ...         Transmission  2020     1   1   \n",
      "...           ...          ...  ...                  ...   ...   ...  ..   \n",
      "3831       Greece  GR---------  ...             Bulgaria  2021    12  31   \n",
      "3832       Greece  GR---------  ...         Distribution  2021    12  31   \n",
      "3833       Greece  GR---------  ...      Final Consumers  2021    12  31   \n",
      "3834       Greece  GR---------  ...         Transmission  2021    12  31   \n",
      "3835       Greece  GR---------  ...             Bulgaria  2021    12  31   \n",
      "\n",
      "       unit      value countPointPresents    flowStatus  \\\n",
      "0     kWh/d  138853526                  1  Provisionnal   \n",
      "1     kWh/d          0                  1  Provisionnal   \n",
      "2     kWh/d   70575939                 26  Provisionnal   \n",
      "3     kWh/d   87288616                 17  Provisionnal   \n",
      "4     kWh/d          0                  1  Provisionnal   \n",
      "...     ...        ...                ...           ...   \n",
      "3831  kWh/d          0                  1  Provisionnal   \n",
      "3832  kWh/d   54829460                 26  Provisionnal   \n",
      "3833  kWh/d   65288652                 17  Provisionnal   \n",
      "3834  kWh/d          0                  1  Provisionnal   \n",
      "3835  kWh/d   22235178                  1  Provisionnal   \n",
      "\n",
      "                                            pointsNames  lastUpdateDateTime  \n",
      "0                                           Agia Triada    2020-01-24 11:09  \n",
      "1                                 Kipi (TR) / Kipi (GR)    2020-01-24 11:09  \n",
      "2     Agioi Theodoroi|Alexandroupolis|Athens|Drama|F...    2020-01-24 11:09  \n",
      "3     Aliveri (PPC)|Aloyminion II|Aloyminion III|Alo...    2020-01-24 11:09  \n",
      "4                                 Kipi (TR) / Kipi (GR)    2020-01-24 11:09  \n",
      "...                                                 ...                 ...  \n",
      "3831                   Kulata (BG) / Sidirokastron (GR)    2022-01-01 11:25  \n",
      "3832  Agioi Theodoroi|Alexandroupolis|Athens|Drama|F...    2022-01-01 11:25  \n",
      "3833  Aliveri (PPC)|Aloyminion II|Aloyminion III|Alo...    2022-01-01 11:25  \n",
      "3834                              Kipi (TR) / Kipi (GR)    2022-01-01 11:25  \n",
      "3835                   Kulata (BG) / Sidirokastron (GR)    2022-01-01 11:25  \n",
      "\n",
      "[3836 rows x 27 columns]\n"
     ]
    }
   ],
   "source": [
    "df3=pd.read_excel(myurl3)\n",
    "print(df3)"
   ]
  },
  {
   "cell_type": "code",
   "execution_count": 24,
   "id": "d7d259d6",
   "metadata": {
    "collapsed": true
   },
   "outputs": [
    {
     "name": "stdout",
     "output_type": "stream",
     "text": [
      "     directionKey  year      value\n",
      "0           entry  2020  138853526\n",
      "1           entry  2020          0\n",
      "2            exit  2020   70575939\n",
      "3            exit  2020   87288616\n",
      "4            exit  2020          0\n",
      "...           ...   ...        ...\n",
      "3831        entry  2021          0\n",
      "3832         exit  2021   54829460\n",
      "3833         exit  2021   65288652\n",
      "3834         exit  2021          0\n",
      "3835         exit  2021   22235178\n",
      "\n",
      "[3836 rows x 3 columns]\n"
     ]
    }
   ],
   "source": [
    "df_subset3=df3[['directionKey','year','value']]\n",
    "print(df_subset3)"
   ]
  },
  {
   "cell_type": "code",
   "execution_count": 25,
   "id": "188227ad",
   "metadata": {},
   "outputs": [
    {
     "name": "stdout",
     "output_type": "stream",
     "text": [
      "                          value\n",
      "year directionKey              \n",
      "2020 entry         5.304742e+07\n",
      "     exit          5.379118e+07\n",
      "2021 entry         6.013083e+07\n",
      "     exit          5.266742e+07\n"
     ]
    }
   ],
   "source": [
    "values_by_entry3=df_subset3.pivot_table(index=['year','directionKey'])\n",
    "print(values_by_entry3)"
   ]
  },
  {
   "cell_type": "code",
   "execution_count": 29,
   "id": "e6e60258",
   "metadata": {},
   "outputs": [
    {
     "data": {
      "text/plain": [
       "<AxesSubplot:xlabel='year,directionKey'>"
      ]
     },
     "execution_count": 29,
     "metadata": {},
     "output_type": "execute_result"
    },
    {
     "data": {
      "image/png": "[encoded data removed]",
      "text/plain": [
       "<Figure size 288x864 with 1 Axes>"
      ]
     },
     "metadata": {
      "needs_background": "light"
     },
     "output_type": "display_data"
    }
   ],
   "source": [
    "values_by_entry3.plot(kind='bar',figsize=(4,12))"
   ]
  },
  {
   "cell_type": "code",
   "execution_count": null,
   "id": "67b391f4",
   "metadata": {},
   "outputs": [],
   "source": []
  }
 ],
 "metadata": {
  "kernelspec": {
   "display_name": "Python 3 (ipykernel)",
   "language": "python",
   "name": "python3"
  },
  "language_info": {
   "codemirror_mode": {
    "name": "ipython",
    "version": 3
   },
   "file_extension": ".py",
   "mimetype": "text/x-python",
   "name": "python",
   "nbconvert_exporter": "python",
   "pygments_lexer": "ipython3",
   "version": "3.9.7"
  }
 },
 "nbformat": 4,
 "nbformat_minor": 5
}
