{
 "cells": [
  {
   "cell_type": "code",
   "execution_count": 1,
   "id": "015c5455",
   "metadata": {},
   "outputs": [],
   "source": [
    "import requests\n",
    "import pandas as pd"
   ]
  },
  {
   "cell_type": "code",
   "execution_count": 2,
   "id": "811655b8",
   "metadata": {},
   "outputs": [
    {
     "name": "stdout",
     "output_type": "stream",
     "text": [
      "<Response [200]>\n"
     ]
    }
   ],
   "source": [
    "start='2022-03-02'\n",
    "to='2022-04-01'\n",
    "myurl='https://transparency.entsog.eu/api/v1/aggregateddata.xlsx?forceDownload=true&pointDirection=dk-se-------dk-tso-0001entrystorage,dk-se-------dk-tso-0001entrytransmissionde-the-----,dk-se-------dk-tso-0001exitstorage,dk-se-------dk-tso-0001exittransmissionde-the-----&from={}&to={}&indicator=Physical%20Flow&periodType=day&timezone=CET&limit=-1'.format(start,to)\n",
    "response=requests.get(myurl)\n",
    "print(response)"
   ]
  },
  {
   "cell_type": "code",
   "execution_count": 3,
   "id": "3e38ce08",
   "metadata": {},
   "outputs": [
    {
     "name": "stdout",
     "output_type": "stream",
     "text": [
      "                                                   id  dataSet dataSetLabel  \\\n",
      "0   1AggregatesDKDK-SE-------DK-TSO-0001entryTrans...        1   Aggregates   \n",
      "1   1AggregatesDKDK-SE-------DK-TSO-0001exitTransm...        1   Aggregates   \n",
      "2   1AggregatesDKDK-SE-------DK-TSO-0001entryTrans...        1   Aggregates   \n",
      "3   1AggregatesDKDK-SE-------DK-TSO-0001exitTransm...        1   Aggregates   \n",
      "4   1AggregatesDKDK-SE-------DK-TSO-0001entryTrans...        1   Aggregates   \n",
      "..                                                ...      ...          ...   \n",
      "57  1AggregatesDKDK-SE-------DK-TSO-0001exitTransm...        1   Aggregates   \n",
      "58  1AggregatesDKDK-SE-------DK-TSO-0001entryTrans...        1   Aggregates   \n",
      "59  1AggregatesDKDK-SE-------DK-TSO-0001exitTransm...        1   Aggregates   \n",
      "60  1AggregatesDKDK-SE-------DK-TSO-0001entryTrans...        1   Aggregates   \n",
      "61  1AggregatesDKDK-SE-------DK-TSO-0001exitTransm...        1   Aggregates   \n",
      "\n",
      "        indicator periodType        periodFrom          periodTo countryKey  \\\n",
      "0   Physical Flow        day  2022-03-02 06:00  2022-03-03 06:00         DK   \n",
      "1   Physical Flow        day  2022-03-02 06:00  2022-03-03 06:00         DK   \n",
      "2   Physical Flow        day  2022-03-03 06:00  2022-03-04 06:00         DK   \n",
      "3   Physical Flow        day  2022-03-03 06:00  2022-03-04 06:00         DK   \n",
      "4   Physical Flow        day  2022-03-04 06:00  2022-03-05 06:00         DK   \n",
      "..            ...        ...               ...               ...        ...   \n",
      "57  Physical Flow        day  2022-03-30 06:00  2022-03-31 06:00         DK   \n",
      "58  Physical Flow        day  2022-03-31 06:00  2022-04-01 06:00         DK   \n",
      "59  Physical Flow        day  2022-03-31 06:00  2022-04-01 06:00         DK   \n",
      "60  Physical Flow        day  2022-04-01 06:00  2022-04-02 06:00         DK   \n",
      "61  Physical Flow        day  2022-04-01 06:00  2022-04-02 06:00         DK   \n",
      "\n",
      "   countryLabel         bzKey  ... adjacentSystemsLabel  year month day  \\\n",
      "0       Denmark  DK-SE-------  ...            DE THE BZ  2022     3   2   \n",
      "1       Denmark  DK-SE-------  ...            DE THE BZ  2022     3   2   \n",
      "2       Denmark  DK-SE-------  ...            DE THE BZ  2022     3   3   \n",
      "3       Denmark  DK-SE-------  ...            DE THE BZ  2022     3   3   \n",
      "4       Denmark  DK-SE-------  ...            DE THE BZ  2022     3   4   \n",
      "..          ...           ...  ...                  ...   ...   ...  ..   \n",
      "57      Denmark  DK-SE-------  ...            DE THE BZ  2022     3  30   \n",
      "58      Denmark  DK-SE-------  ...            DE THE BZ  2022     3  31   \n",
      "59      Denmark  DK-SE-------  ...            DE THE BZ  2022     3  31   \n",
      "60      Denmark  DK-SE-------  ...            DE THE BZ  2022     4   1   \n",
      "61      Denmark  DK-SE-------  ...            DE THE BZ  2022     4   1   \n",
      "\n",
      "     unit     value countPointPresents    flowStatus  pointsNames  \\\n",
      "0   kWh/d  46558815                  1  Provisionnal   VIP DK-THE   \n",
      "1   kWh/d         0                  1  Provisionnal   VIP DK-THE   \n",
      "2   kWh/d  62899023                  1  Provisionnal   VIP DK-THE   \n",
      "3   kWh/d         0                  1  Provisionnal   VIP DK-THE   \n",
      "4   kWh/d  54797088                  1  Provisionnal   VIP DK-THE   \n",
      "..    ...       ...                ...           ...          ...   \n",
      "57  kWh/d         0                  1  Provisionnal   VIP DK-THE   \n",
      "58  kWh/d  56617664                  1  Provisionnal   VIP DK-THE   \n",
      "59  kWh/d         0                  1  Provisionnal   VIP DK-THE   \n",
      "60  kWh/d  48800629                  1  Provisionnal   VIP DK-THE   \n",
      "61  kWh/d         0                  1  Provisionnal   VIP DK-THE   \n",
      "\n",
      "    lastUpdateDateTime  \n",
      "0     2022-03-09 07:27  \n",
      "1     2022-03-09 07:27  \n",
      "2     2022-03-10 07:12  \n",
      "3     2022-03-10 07:12  \n",
      "4     2022-03-11 07:19  \n",
      "..                 ...  \n",
      "57    2022-04-02 07:19  \n",
      "58    2022-04-02 07:19  \n",
      "59    2022-04-02 07:19  \n",
      "60    2022-04-02 07:19  \n",
      "61    2022-04-02 07:19  \n",
      "\n",
      "[62 rows x 27 columns]\n"
     ]
    }
   ],
   "source": [
    "df=pd.read_excel(myurl)\n",
    "print(df)"
   ]
  },
  {
   "cell_type": "code",
   "execution_count": null,
   "id": "8d31175f",
   "metadata": {},
   "outputs": [],
   "source": []
  }
 ],
 "metadata": {
  "kernelspec": {
   "display_name": "Python 3 (ipykernel)",
   "language": "python",
   "name": "python3"
  },
  "language_info": {
   "codemirror_mode": {
    "name": "ipython",
    "version": 3
   },
   "file_extension": ".py",
   "mimetype": "text/x-python",
   "name": "python",
   "nbconvert_exporter": "python",
   "pygments_lexer": "ipython3",
   "version": "3.9.7"
  }
 },
 "nbformat": 4,
 "nbformat_minor": 5
}
